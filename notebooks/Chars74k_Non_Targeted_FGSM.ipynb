{
  "nbformat": 4,
  "nbformat_minor": 0,
  "metadata": {
    "colab": {
      "name": "Chars74k Non-Targeted FGSM.ipynb",
      "provenance": [],
      "collapsed_sections": []
    },
    "kernelspec": {
      "name": "python3",
      "display_name": "Python 3"
    },
    "accelerator": "GPU"
  },
  "cells": [
    {
      "cell_type": "markdown",
      "metadata": {
        "id": "y37bvURS24uA",
        "colab_type": "text"
      },
      "source": [
        "# Non-targeted FGSM attacks on the Chars74k dataset"
      ]
    },
    {
      "cell_type": "code",
      "metadata": {
        "id": "g4IQvkN0TFXQ",
        "colab_type": "code",
        "colab": {}
      },
      "source": [
        "import tensorflow as tf\n",
        "from tensorflow.keras.models import Sequential\n",
        "from tensorflow.keras.layers import Conv2D, MaxPooling2D, Dropout, Dense, Flatten\n",
        "import numpy as np\n",
        "import matplotlib.pyplot as plt\n",
        "import pickle\n",
        "import string"
      ],
      "execution_count": 0,
      "outputs": []
    },
    {
      "cell_type": "markdown",
      "metadata": {
        "id": "9D0dGh9Y1P0Z",
        "colab_type": "text"
      },
      "source": [
        "## The Dataset\n",
        "The x\\_\\*.pickle and y\\_\\*.pickle files were pre-made to prevent going through every directory and image of the dataset every single time.\n",
        "\n",
        "This model is trained on a modified version of the Chars74k English digital fonts dataset. The dataset we are using here only includes ***capital letters*** (i.e. A-Z). Each image is 128x128 pixels"
      ]
    },
    {
      "cell_type": "code",
      "metadata": {
        "id": "JOcQRztuTe6H",
        "colab_type": "code",
        "colab": {}
      },
      "source": [
        "def load_from_files():\n",
        "  x_train_pkl = open(\"x_train.pickle\", \"rb\")\n",
        "  y_train_pkl = open(\"y_train.pickle\", \"rb\")\n",
        "\n",
        "  x_test_pkl = open(\"x_test.pickle\", \"rb\")\n",
        "  y_test_pkl = open(\"y_test.pickle\", \"rb\")\n",
        "\n",
        "  x_train, y_train = pickle.load(x_train_pkl), pickle.load(y_train_pkl)\n",
        "  x_test, y_test = pickle.load(x_test_pkl), pickle.load(y_test_pkl)\n",
        "\n",
        "  return (x_train, y_train),(x_test, y_test)"
      ],
      "execution_count": 0,
      "outputs": []
    },
    {
      "cell_type": "code",
      "metadata": {
        "id": "DWwxH0WyToRj",
        "colab_type": "code",
        "colab": {}
      },
      "source": [
        "(x_train, y_train),(x_test, y_test) = load_from_files()"
      ],
      "execution_count": 0,
      "outputs": []
    },
    {
      "cell_type": "code",
      "metadata": {
        "id": "QkHLpQueZGIa",
        "colab_type": "code",
        "colab": {}
      },
      "source": [
        "x_train = x_train / 255\n",
        "x_test = x_test / 255\n",
        "\n",
        "y_train = tf.keras.utils.to_categorical(y_train, 26)\n",
        "y_test = tf.keras.utils.to_categorical(y_test, 26)"
      ],
      "execution_count": 0,
      "outputs": []
    },
    {
      "cell_type": "markdown",
      "metadata": {
        "id": "xGPrDZDe2aEB",
        "colab_type": "text"
      },
      "source": [
        "## The Model\n",
        "This model is a modified version of the model used in the MNIST attacks. The kernel size and strides have been tweaked to account for the larger image sizes."
      ]
    },
    {
      "cell_type": "code",
      "metadata": {
        "id": "bZfqRunOYv0f",
        "colab_type": "code",
        "colab": {}
      },
      "source": [
        "model = Sequential([\n",
        "            Conv2D(32,\n",
        "                kernel_size=(5, 5),\n",
        "                strides=(1, 1),\n",
        "                padding='same',\n",
        "                activation='relu',\n",
        "                input_shape=(128, 128, 1)),\n",
        "            Conv2D(64,\n",
        "                kernel_size=(5, 5),\n",
        "                strides=(1, 1),\n",
        "                padding='same',\n",
        "                activation='relu'),\n",
        "            Conv2D(64,\n",
        "                kernel_size=(5, 5),\n",
        "                strides=(1, 1),\n",
        "                padding='same',\n",
        "                activation='relu'),\n",
        "            MaxPooling2D(pool_size=(2, 2)),\n",
        "            Dropout(0.2),\n",
        "            Flatten(),\n",
        "            Dense(32),\n",
        "            Dropout(0.2),\n",
        "            Dense(32),\n",
        "            Dropout(0.2),\n",
        "            Dense(26, activation='softmax')\n",
        "        ])\n",
        "model.compile(optimizer='adam', loss='mse', metrics=['accuracy'])"
      ],
      "execution_count": 0,
      "outputs": []
    },
    {
      "cell_type": "code",
      "metadata": {
        "id": "e_G67yRLofNk",
        "colab_type": "code",
        "colab": {}
      },
      "source": [
        "labels = list(string.ascii_uppercase)"
      ],
      "execution_count": 0,
      "outputs": []
    },
    {
      "cell_type": "code",
      "metadata": {
        "id": "rrSclHJUZPrO",
        "colab_type": "code",
        "colab": {}
      },
      "source": [
        "model.fit(x_train, y_train, batch_size=32, epochs=20, validation_data=(x_test, y_test))"
      ],
      "execution_count": 0,
      "outputs": []
    },
    {
      "cell_type": "code",
      "metadata": {
        "id": "pibSHEjojJFC",
        "colab_type": "code",
        "outputId": "ec69fb2a-2e61-4522-80a6-380425f0b5d5",
        "colab": {
          "base_uri": "https://localhost:8080/",
          "height": 52
        }
      },
      "source": [
        "model.evaluate(x_test, y_test, verbose=2)"
      ],
      "execution_count": 0,
      "outputs": [
        {
          "output_type": "stream",
          "text": [
            "165/165 - 7s - loss: 0.0023 - accuracy: 0.9667\n"
          ],
          "name": "stdout"
        },
        {
          "output_type": "execute_result",
          "data": {
            "text/plain": [
              "[0.0023217082489281893, 0.9666540622711182]"
            ]
          },
          "metadata": {
            "tags": []
          },
          "execution_count": 7
        }
      ]
    },
    {
      "cell_type": "markdown",
      "metadata": {
        "id": "cAQ6atqA3H1J",
        "colab_type": "text"
      },
      "source": [
        "The model is saved in a file to avoid needing to go through the process of training over and over again."
      ]
    },
    {
      "cell_type": "code",
      "metadata": {
        "id": "oy6fE-xZjzRG",
        "colab_type": "code",
        "colab": {}
      },
      "source": [
        "model.save('model.h5')"
      ],
      "execution_count": 0,
      "outputs": []
    },
    {
      "cell_type": "markdown",
      "metadata": {
        "id": "3dmWzBMV3dyV",
        "colab_type": "text"
      },
      "source": [
        "## The Attacks\n",
        "These are the same implementations of the MNIST attacks"
      ]
    },
    {
      "cell_type": "code",
      "metadata": {
        "id": "PYSYKP-npDnA",
        "colab_type": "code",
        "colab": {}
      },
      "source": [
        "def mi_fgsm(image, label, decay_factor=1.0, eps=0.1, T=10):\n",
        "  image = tf.cast(image, tf.float32)\n",
        "  g_curr = 0\n",
        "  g_next = 0\n",
        "  alpha = eps / T\n",
        "  adv_x = image\n",
        "  for t in range(T):\n",
        "    gradient = compute_gradient(adv_x, label)\n",
        "    L1 = tf.norm(gradient, ord=1)\n",
        "    g_next = decay_factor*g_curr + (gradient / L1)\n",
        "    g_curr = g_next\n",
        "    adv_x = adv_x + alpha * tf.sign(g_next)\n",
        "  return adv_x.numpy()"
      ],
      "execution_count": 0,
      "outputs": []
    },
    {
      "cell_type": "code",
      "metadata": {
        "id": "FIbIPre5pWET",
        "colab_type": "code",
        "colab": {}
      },
      "source": [
        "def compute_gradient(x, label):\n",
        "  with tf.GradientTape() as tape:\n",
        "    tape.watch(x)\n",
        "    prediction = model(x)\n",
        "    loss = tf.keras.losses.MSE(label, prediction)\n",
        "  return tape.gradient(loss, x)"
      ],
      "execution_count": 0,
      "outputs": []
    },
    {
      "cell_type": "code",
      "metadata": {
        "id": "KVoQYReerzWa",
        "colab_type": "code",
        "colab": {}
      },
      "source": [
        "def adversarial_pattern(image, label):\n",
        "  # Cast to tensor\n",
        "  image = tf.cast(image, tf.float32)\n",
        "  gradient = compute_gradient(image, label)\n",
        "  signed_grad = tf.sign(gradient)\n",
        "  return signed_grad"
      ],
      "execution_count": 0,
      "outputs": []
    },
    {
      "cell_type": "code",
      "metadata": {
        "id": "EsfUiSzor0Ok",
        "colab_type": "code",
        "colab": {}
      },
      "source": [
        "def fgsm(image, label, eps=0.1):\n",
        "  perturbations = adversarial_pattern(image, label).numpy()\n",
        "  return image + eps*perturbations"
      ],
      "execution_count": 0,
      "outputs": []
    },
    {
      "cell_type": "markdown",
      "metadata": {
        "id": "4dgNTc3-3ncj",
        "colab_type": "text"
      },
      "source": [
        "## The Results"
      ]
    },
    {
      "cell_type": "code",
      "metadata": {
        "id": "6U8rhbUbmuxr",
        "colab_type": "code",
        "colab": {}
      },
      "source": [
        "idx = 1\n",
        "img = x_test[idx].reshape((-1, 128, 128, 1))\n",
        "lbl = y_test[idx]"
      ],
      "execution_count": 0,
      "outputs": []
    },
    {
      "cell_type": "code",
      "metadata": {
        "id": "5OS1Y9cSpFwv",
        "colab_type": "code",
        "colab": {}
      },
      "source": [
        "mi_fgsm_adv = mi_fgsm(img, lbl, decay_factor=1.0, eps=0.07, T=10)\n",
        "fgsm_adv = fgsm(img, lbl, eps=0.1)"
      ],
      "execution_count": 0,
      "outputs": []
    },
    {
      "cell_type": "code",
      "metadata": {
        "id": "-qsy4Ebnot8S",
        "colab_type": "code",
        "outputId": "9d7c608e-f0f7-4c98-ebc6-f7a10990d361",
        "colab": {
          "base_uri": "https://localhost:8080/",
          "height": 281
        }
      },
      "source": [
        "plt.figure()\n",
        "plt.imshow(img.reshape(128,128), cmap=\"gray\")\n",
        "plt.title('Original Image')\n",
        "plt.show()"
      ],
      "execution_count": 192,
      "outputs": [
        {
          "output_type": "display_data",
          "data": {
            "image/png": "[encoded data removed]",
            "text/plain": [
              "<Figure size 432x288 with 1 Axes>"
            ]
          },
          "metadata": {
            "tags": [],
            "needs_background": "light"
          }
        }
      ]
    },
    {
      "cell_type": "code",
      "metadata": {
        "id": "HYboTy7Hpcw6",
        "colab_type": "code",
        "outputId": "5cf4f8e1-6be5-4079-aa85-c709ffc0dd70",
        "colab": {
          "base_uri": "https://localhost:8080/",
          "height": 311
        }
      },
      "source": [
        "mi_pred = model.predict(mi_fgsm_adv)\n",
        "mi_conf = mi_pred.max() * 100\n",
        "\n",
        "plt.figure()\n",
        "plt.imshow(mi_fgsm_adv.reshape(128,128), cmap=\"gray\")\n",
        "plt.title('MI-FGSM\\nTrue: {}\\nPrediction: {}, Confidence: {}'.format(labels[lbl.argmax()],\n",
        "                                                                     labels[mi_pred.argmax()],\n",
        "                                                                     mi_conf))\n",
        "plt.show()"
      ],
      "execution_count": 190,
      "outputs": [
        {
          "output_type": "display_data",
          "data": {
            "image/png": "[encoded data removed]",
            "text/plain": [
              "<Figure size 432x288 with 1 Axes>"
            ]
          },
          "metadata": {
            "tags": [],
            "needs_background": "light"
          }
        }
      ]
    },
    {
      "cell_type": "code",
      "metadata": {
        "id": "MRPtvLX2sATb",
        "colab_type": "code",
        "outputId": "42d4ac91-a010-4acf-c5e2-ea6a8389ae68",
        "colab": {
          "base_uri": "https://localhost:8080/",
          "height": 311
        }
      },
      "source": [
        "fgsm_pred = model.predict(fgsm_adv)\n",
        "fgsm_conf = fgsm_pred.max() * 100\n",
        "\n",
        "plt.figure()\n",
        "plt.imshow(fgsm_adv.reshape(128,128), cmap=\"gray\")\n",
        "plt.title('FGSM\\nTrue: {}\\nPrediction: {}, Confidence: {}'.format(labels[lbl.argmax()],\n",
        "                                                                     labels[fgsm_pred.argmax()],\n",
        "                                                                     fgsm_conf))\n",
        "plt.show()"
      ],
      "execution_count": 186,
      "outputs": [
        {
          "output_type": "display_data",
          "data": {
            "image/png": "[encoded data removed]",
            "text/plain": [
              "<Figure size 432x288 with 1 Axes>"
            ]
          },
          "metadata": {
            "tags": [],
            "needs_background": "light"
          }
        }
      ]
    },
    {
      "cell_type": "markdown",
      "metadata": {
        "id": "Docksok83s6j",
        "colab_type": "text"
      },
      "source": [
        "## Notes\n",
        "There are some examples in the dataset that will simply not distort no matter how large the epsilon value. This poses an issue, but I do not think it is absolutely terrible because an ML bot will only need to get one letter wrong for the CAPTCHA to fail and I would imagine the probability of getting all X characters of the CAPTCHA to not distort is low. \n",
        "\n",
        "More tests need to be done to determine the success rate of our attacks, which we can use to get an idea of how big of an issue the failed attacks are.\n",
        "\n",
        "I would also need to do testing on different epsilon values to determine what is the best way to approach the setting an epsilon value\n",
        "\n",
        "Just as a not to the reader, the notebook format is for demonstration purposes and proper python scripts will be available as well"
      ]
    }
  ]
}