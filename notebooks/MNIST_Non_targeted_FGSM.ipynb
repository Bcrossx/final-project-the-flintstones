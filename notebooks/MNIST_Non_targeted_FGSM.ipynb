{
  "nbformat": 4,
  "nbformat_minor": 0,
  "metadata": {
    "colab": {
      "name": "MNIST Non-targeted FGSM",
      "provenance": []
    },
    "kernelspec": {
      "name": "python3",
      "display_name": "Python 3"
    },
    "accelerator": "GPU"
  },
  "cells": [
    {
      "cell_type": "markdown",
      "metadata": {
        "id": "shvivxVFaQx8",
        "colab_type": "text"
      },
      "source": [
        "[Source](https://medium.com/analytics-vidhya/implementing-adversarial-attacks-and-defenses-in-keras-tensorflow-2-0-cab6120c5715)"
      ]
    },
    {
      "cell_type": "code",
      "metadata": {
        "id": "O1XNhs-gXNjO",
        "colab_type": "code",
        "colab": {}
      },
      "source": [
        "import tensorflow as tf\n",
        "from tensorflow.keras.models import Sequential\n",
        "from tensorflow.keras.layers import Conv2D, MaxPooling2D, Dropout, Dense, Flatten\n",
        "\n",
        "\n",
        "import numpy as np\n",
        "import matplotlib.pyplot as plt"
      ],
      "execution_count": 0,
      "outputs": []
    },
    {
      "cell_type": "code",
      "metadata": {
        "id": "pYGg-_w-YOci",
        "colab_type": "code",
        "colab": {}
      },
      "source": [
        "mnist = tf.keras.datasets.mnist\n",
        "\n",
        "(x_train, y_train), (x_test, y_test) = mnist.load_data()"
      ],
      "execution_count": 0,
      "outputs": []
    },
    {
      "cell_type": "code",
      "metadata": {
        "id": "EQoBVFmSY8Bw",
        "colab_type": "code",
        "colab": {}
      },
      "source": [
        "img_rows, img_cols, channels = 28, 28, 1\n",
        "num_classes = 10\n",
        "\n",
        "x_train = x_train / 255\n",
        "x_test = x_test / 255\n",
        "\n",
        "x_train = x_train.reshape((-1, img_rows, img_cols, channels))\n",
        "x_test = x_test.reshape((-1, img_rows, img_cols, channels))\n",
        "\n",
        "y_train = tf.keras.utils.to_categorical(y_train, num_classes)\n",
        "y_test = tf.keras.utils.to_categorical(y_test, num_classes)\n",
        "\n",
        "print(\"Data shapes\", x_test.shape, y_test.shape, x_train.shape, y_train.shape)"
      ],
      "execution_count": 0,
      "outputs": []
    },
    {
      "cell_type": "code",
      "metadata": {
        "id": "8wfzQYhaeOaa",
        "colab_type": "code",
        "colab": {}
      },
      "source": [
        "labels = ['zero', 'one', 'two', 'three', 'four', 'five', 'six', 'seven', 'eight', 'nine']"
      ],
      "execution_count": 0,
      "outputs": []
    },
    {
      "cell_type": "code",
      "metadata": {
        "id": "ObIkDrP6ZDLf",
        "colab_type": "code",
        "colab": {}
      },
      "source": [
        "def create_model():\n",
        "  model = Sequential([\n",
        "    Conv2D(32, kernel_size=(3, 3), strides=(3, 3), padding='same', activation='relu', input_shape=(img_rows, img_cols, channels)),\n",
        "    Conv2D(64, kernel_size=(3, 3), strides=(3, 3), padding='same', activation='relu'),\n",
        "    Conv2D(64, kernel_size=(3, 3), strides=(3, 3), padding='same', activation='relu'),\n",
        "    MaxPooling2D(pool_size=(2, 2)),\n",
        "    Dropout(0.2),\n",
        "    Flatten(),\n",
        "    Dense(32),\n",
        "    Dropout(0.2),\n",
        "    Dense(32),\n",
        "    Dropout(0.2),\n",
        "    Dense(num_classes, activation='softmax')\n",
        "  ])\n",
        "  model.compile(optimizer='adam', loss='mse', metrics=['accuracy'])\n",
        "  return model\n",
        "\n",
        "mnist_model = create_model()"
      ],
      "execution_count": 0,
      "outputs": []
    },
    {
      "cell_type": "code",
      "metadata": {
        "id": "xtZWOS2vaPiK",
        "colab_type": "code",
        "colab": {}
      },
      "source": [
        "mnist_model.fit(x_train, y_train,\n",
        "          batch_size=32,\n",
        "          epochs=20,\n",
        "          validation_data=(x_test, y_test))"
      ],
      "execution_count": 0,
      "outputs": []
    },
    {
      "cell_type": "code",
      "metadata": {
        "id": "pFcg6kDzbrWK",
        "colab_type": "code",
        "colab": {}
      },
      "source": [
        "def adversarial_pattern(image, label):\n",
        "  # Cast to tensor\n",
        "  image = tf.cast(image, tf.float32)\n",
        "  with tf.GradientTape() as tape:\n",
        "    tape.watch(image)\n",
        "    prediction = mnist_model(image)\n",
        "    loss = tf.keras.losses.MSE(label, prediction)\n",
        "\n",
        "  gradient = tape.gradient(loss, image)\n",
        "  signed_grad = tf.sign(gradient)\n",
        "  return signed_grad"
      ],
      "execution_count": 0,
      "outputs": []
    },
    {
      "cell_type": "code",
      "metadata": {
        "id": "1Nv3UWQehc_G",
        "colab_type": "code",
        "colab": {}
      },
      "source": [
        "def fgsm(image, label, eps=0.1):\n",
        "  perturbations = adversarial_pattern(image, label).numpy()\n",
        "  return image + eps*perturbations"
      ],
      "execution_count": 0,
      "outputs": []
    },
    {
      "cell_type": "markdown",
      "metadata": {
        "id": "57iK_NZ05zMm",
        "colab_type": "text"
      },
      "source": [
        "[Source for MI-FGSM](https://arxiv.org/pdf/1710.06081.pdf)"
      ]
    },
    {
      "cell_type": "code",
      "metadata": {
        "id": "LCAlO5crr4Zd",
        "colab_type": "code",
        "colab": {}
      },
      "source": [
        "def mi_fgsm(image, label, decay_factor=1.0, eps=0.1, T=10):\n",
        "  image = tf.cast(image, tf.float32)\n",
        "  g_curr = 0\n",
        "  g_next = 0\n",
        "  alpha = eps / T\n",
        "  adv_x = image\n",
        "  for t in range(T):\n",
        "    gradient = compute_gradient(adv_x, label)\n",
        "    L1 = tf.norm(gradient, ord=1)\n",
        "    g_next = decay_factor*g_curr + (gradient / L1)\n",
        "    g_curr = g_next\n",
        "    adv_x = adv_x + alpha * tf.sign(g_next)\n",
        "  return adv_x.numpy()"
      ],
      "execution_count": 0,
      "outputs": []
    },
    {
      "cell_type": "code",
      "metadata": {
        "id": "lEtrJOmU1r35",
        "colab_type": "code",
        "colab": {}
      },
      "source": [
        "def compute_gradient(x, label):\n",
        "  with tf.GradientTape() as tape:\n",
        "    tape.watch(x)\n",
        "    prediction = mnist_model(x)\n",
        "    loss = tf.keras.losses.MSE(label, prediction)\n",
        "  return tape.gradient(loss, x)"
      ],
      "execution_count": 0,
      "outputs": []
    },
    {
      "cell_type": "code",
      "metadata": {
        "id": "zyHXnAz5cpEw",
        "colab_type": "code",
        "colab": {}
      },
      "source": [
        "img = x_train[1337]\n",
        "img_lbl = y_train[1337]\n",
        "actual = mnist_model.predict(img.reshape((1, img_rows, img_cols, channels)))"
      ],
      "execution_count": 0,
      "outputs": []
    },
    {
      "cell_type": "code",
      "metadata": {
        "id": "XVy-jeppdIFe",
        "colab_type": "code",
        "outputId": "488f077b-f7e3-4c47-c759-5768f58ef5bb",
        "colab": {
          "base_uri": "https://localhost:8080/",
          "height": 296
        }
      },
      "source": [
        "fgsm_adv = fgsm(image=img.reshape((1, img_rows, img_cols, channels)), \n",
        "                label=img_lbl, \n",
        "                eps=0.1)\n",
        "fgsm_pred = mnist_model.predict(fgsm_adv)\n",
        "plt.figure()\n",
        "plt.imshow(fgsm_adv.reshape(img_rows, img_cols), cmap=plt.cm.binary)\n",
        "plt.title('Actual: {} \\n Prediction: {} , {:.2f}% Confidence'.format(labels[actual.argmax()],\n",
        "                                                                     labels[fgsm_pred.argmax()],\n",
        "                                                                     fgsm_pred.max()*100))\n",
        "plt.show()"
      ],
      "execution_count": 155,
      "outputs": [
        {
          "output_type": "display_data",
          "data": {
            "image/png": "[encoded data removed]",
            "text/plain": [
              "<Figure size 432x288 with 1 Axes>"
            ]
          },
          "metadata": {
            "tags": [],
            "needs_background": "light"
          }
        }
      ]
    },
    {
      "cell_type": "code",
      "metadata": {
        "id": "cdJLNm3AuUdJ",
        "colab_type": "code",
        "outputId": "8f4c93b1-d55a-4490-c120-1dd7c9f7147e",
        "colab": {
          "base_uri": "https://localhost:8080/",
          "height": 296
        }
      },
      "source": [
        "mi_fgsm_adv = mi_fgsm(image=img.reshape((1,img_rows, img_cols, channels)),\n",
        "                      label=img_lbl,\n",
        "                      decay_factor=0.1,\n",
        "                      eps=0.08,\n",
        "                      T=10)\n",
        "mi_fgsm_pred = mnist_model.predict(mi_fgsm_adv)\n",
        "plt.figure()\n",
        "plt.imshow(mi_fgsm_adv.reshape(img_rows, img_cols), cmap=plt.cm.binary)\n",
        "plt.title('Actual: {} \\n Prediction: {} , {:.2f}% Confidence'.format(labels[actual.argmax()],\n",
        "                                                                     labels[mi_fgsm_pred.argmax()],\n",
        "                                                                     mi_fgsm_pred.max()*100))\n",
        "plt.show()"
      ],
      "execution_count": 160,
      "outputs": [
        {
          "output_type": "display_data",
          "data": {
            "image/png": "[encoded data removed]",
            "text/plain": [
              "<Figure size 432x288 with 1 Axes>"
            ]
          },
          "metadata": {
            "tags": [],
            "needs_background": "light"
          }
        }
      ]
    },
    {
      "cell_type": "code",
      "metadata": {
        "id": "qp2vl5Ir4Hnw",
        "colab_type": "code",
        "colab": {
          "base_uri": "https://localhost:8080/",
          "height": 281
        },
        "outputId": "13048804-13ea-4d56-c560-44768eccfd10"
      },
      "source": [
        "plt.figure()\n",
        "plt.imshow(img.reshape(28,28), cmap=plt.cm.binary)\n",
        "plt.title('Original')\n",
        "plt.show()"
      ],
      "execution_count": 154,
      "outputs": [
        {
          "output_type": "display_data",
          "data": {
            "image/png": "[encoded data removed]",
            "text/plain": [
              "<Figure size 432x288 with 1 Axes>"
            ]
          },
          "metadata": {
            "tags": [],
            "needs_background": "light"
          }
        }
      ]
    }
  ]
}