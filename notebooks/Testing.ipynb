{
 "cells": [
  {
   "cell_type": "code",
   "execution_count": 1,
   "metadata": {
    "colab": {},
    "colab_type": "code",
    "id": "Rordi0Hz9CRB"
   },
   "outputs": [],
   "source": [
    "import tensorflow as tf\n",
    "import numpy as np\n",
    "import h5py\n",
    "import string\n",
    "import matplotlib.pyplot as plt"
   ]
  },
  {
   "cell_type": "markdown",
   "metadata": {
    "colab_type": "text",
    "id": "Ovw7YVNy9qsX"
   },
   "source": [
    "### Helper Functions"
   ]
  },
  {
   "cell_type": "code",
   "execution_count": 2,
   "metadata": {
    "colab": {},
    "colab_type": "code",
    "id": "cZOoENQ99kqe"
   },
   "outputs": [],
   "source": [
    "def load_test_data(filename=\"Chars74K_data.hdf5\"):\n",
    "    with h5py.File(\"Chars74K_data.hdf5\", \"r\") as f:\n",
    "        x_test, y_test = f[\"x_test\"][:], f[\"y_test\"][:]\n",
    "    return x_test, y_test\n",
    "\n",
    "def compute_gradient(x, label):\n",
    "    with tf.GradientTape() as tape:\n",
    "        tape.watch(x)\n",
    "        prediction = model(x)\n",
    "        loss = tf.keras.losses.MSE(label, prediction)\n",
    "    return tape.gradient(loss, x), loss"
   ]
  },
  {
   "cell_type": "code",
   "execution_count": 3,
   "metadata": {
    "colab": {},
    "colab_type": "code",
    "id": "5zhJl4BOAV5F"
   },
   "outputs": [],
   "source": [
    "labels = list(string.ascii_uppercase)\n",
    "\n",
    "model = tf.keras.models.load_model(\"Chars74K_model.h5\")\n",
    "x_test, y_test = load_test_data()\n",
    "\n",
    "x_test = x_test/255\n",
    "y_test = tf.keras.utils.to_categorical(y_test, len(labels))"
   ]
  },
  {
   "cell_type": "markdown",
   "metadata": {
    "colab_type": "text",
    "id": "IDhr78oK-HHP"
   },
   "source": [
    "### Attack\n",
    "`new_mi_fgsm()` started off as an implementation of targeted MI-FGSM from [this paper](https://arxiv.org/pdf/1710.06081.pdf). But in the process of trying to get the implementation to work, I found this configuration provided really good results."
   ]
  },
  {
   "cell_type": "code",
   "execution_count": 4,
   "metadata": {
    "colab": {},
    "colab_type": "code",
    "id": "yswMn7WR-KhK"
   },
   "outputs": [],
   "source": [
    "def new_mi_fgsm(image, label, decay_factor=1.0, eps=0.1, T=10):\n",
    "    image = tf.cast(image, tf.float32)\n",
    "    g = np.full((1, 128, 128, 1), 1e-12, dtype=np.float32)\n",
    "    adv_x = image # 1, 128, 128, 1\n",
    "    for t in range(T):\n",
    "        gradient, loss = compute_gradient(adv_x, label) # Tensors\n",
    "        loss = loss.numpy()\n",
    "        L1 = tf.norm(gradient, ord=1).numpy() # Tensor\n",
    "        \n",
    "        if L1 == 0: L1 = 1e-12\n",
    "        \n",
    "        g = (g * decay_factor) + (loss/L1)\n",
    "        \n",
    "        L2 = tf.norm(g, ord=2).numpy()\n",
    "        if np.isinf(L2): \n",
    "            # Dividing by inf gives an error, and x/inf --> 0 so we just set the\n",
    "            # perturbations to an matrix of zeros\n",
    "            # It still performed the calculations without this but errors suck\n",
    "            perturbations = np.full_like(g, 0)\n",
    "        else: \n",
    "            perturbations = (eps * (g/L2))\n",
    "        adv_x = adv_x - perturbations\n",
    "    return adv_x.numpy()"
   ]
  },
  {
   "cell_type": "markdown",
   "metadata": {
    "colab_type": "text",
    "id": "Hdgv4ASF_FhG"
   },
   "source": [
    "### Tests"
   ]
  },
  {
   "cell_type": "code",
   "execution_count": 5,
   "metadata": {
    "colab": {},
    "colab_type": "code",
    "id": "CxgkFh-L_GlO"
   },
   "outputs": [],
   "source": [
    "def attack_successful(img, lbl, epsilon, T):\n",
    "    # Returns boolean of whether or not attack was successful at fooling model\n",
    "    truth_lbl = labels[lbl.argmax()]\n",
    "    adv_example = new_mi_fgsm(img, lbl, eps=epsilon, T=T)\n",
    "    prediction_lbl = labels[model.predict(adv_example).argmax()]\n",
    "    if prediction_lbl is not truth_lbl:\n",
    "        return True, prediction_lbl\n",
    "    return False, prediction_lbl"
   ]
  },
  {
   "cell_type": "code",
   "execution_count": 6,
   "metadata": {
    "colab": {},
    "colab_type": "code",
    "id": "7_3l8XpV_z-J"
   },
   "outputs": [],
   "source": [
    "def test():\n",
    "    print(\"Begining Tests\")\n",
    "    outputs = { letter: set() for letter in labels }\n",
    "    \n",
    "    successes = 0\n",
    "    fails = []\n",
    "    x_len = len(x_test)\n",
    "    for idx, img in enumerate(x_test):\n",
    "        truth_arr = y_test[idx]\n",
    "        found, prediction = attack_successful(img.reshape((1,128,128,1)), truth_arr, 16, 10)\n",
    "        if found:\n",
    "            # Want to check what values adv examples are being mapped to\n",
    "            outputs[labels[truth_arr.argmax()]].add(prediction)\n",
    "            successes += 1\n",
    "        else:\n",
    "            fails.append(idx)\n",
    "    print(\"Number of successes: {}/{}\".format(successes, x_len))\n",
    "    print(\"Success Rate: \", successes / x_len)\n",
    "    print(\"What letters were predicted as: \", outputs)\n",
    "    print(\"Failed at indices: \", fails) # Just out of curiosity"
   ]
  },
  {
   "cell_type": "markdown",
   "metadata": {
    "colab_type": "text",
    "id": "f0J6hMiwAHjs"
   },
   "source": [
    "Single exmaple of `new_mi_fgsm()` in action"
   ]
  },
  {
   "cell_type": "code",
   "execution_count": 7,
   "metadata": {
    "colab": {},
    "colab_type": "code",
    "id": "LU0agTdqAGW4"
   },
   "outputs": [
    {
     "data": {
      "image/png": "[encoded data removed]",
      "text/plain": [
       "<Figure size 432x288 with 2 Axes>"
      ]
     },
     "metadata": {
      "needs_background": "light"
     },
     "output_type": "display_data"
    }
   ],
   "source": [
    "idx = 3405\n",
    "test_img = x_test[idx].reshape((-1,128,128,1))\n",
    "y_true = y_test[idx]\n",
    "true_lbl = labels[y_true.argmax()]\n",
    "\n",
    "adv_example = new_mi_fgsm(image=test_img, label=y_true, decay_factor=1.0, eps=20, T=25)\n",
    "adv_pred = model.predict(adv_example)\n",
    "adv_lbl = labels[adv_pred.argmax()]\n",
    "confidence = adv_pred.max() * 100\n",
    "\n",
    "fig = plt.figure()\n",
    "fig.suptitle(\"New MI-FGSM Example\", fontsize=16)\n",
    "ax1 = fig.add_subplot(121)\n",
    "ax1.imshow(test_img.reshape(128,128), cmap=\"gray\")\n",
    "ax1.title.set_text(\"Original\")\n",
    "\n",
    "ax2 = fig.add_subplot(122)\n",
    "ax2.imshow(adv_example.reshape(128,128), cmap=\"gray\")\n",
    "ax2.title.set_text(\"True: {}\\nPrediction: {}\\nConfidence: {}\".format(true_lbl, adv_lbl, confidence))\n",
    "\n",
    "plt.show()"
   ]
  },
  {
   "cell_type": "markdown",
   "metadata": {
    "colab_type": "text",
    "id": "NmVOtlP3Ewbl"
   },
   "source": [
    "Total Dataset Assessment"
   ]
  },
  {
   "cell_type": "code",
   "execution_count": 8,
   "metadata": {
    "colab": {},
    "colab_type": "code",
    "id": "srxbczvAD9lT"
   },
   "outputs": [
    {
     "name": "stdout",
     "output_type": "stream",
     "text": [
      "Begining Tests\n",
      "Number of successes: 4627/5278\n",
      "Success Rate:  0.876657824933687\n"
      ]
    }
   ],
   "source": [
    "# epsilon = 20, T = 25\n",
    "# These were a bit arbitrarily set but seem to work well\n",
    "test()"
   ]
  }
 ],
 "metadata": {
  "colab": {
   "collapsed_sections": [],
   "name": "Testing Results.ipynb",
   "provenance": [],
   "toc_visible": true
  },
  "environment": {
   "name": "tf2-gpu.2-1.m46",
   "type": "gcloud",
   "uri": "gcr.io/deeplearning-platform-release/tf2-gpu.2-1:m46"
  },
  "kernelspec": {
   "display_name": "Python 3",
   "language": "python",
   "name": "python3"
  },
  "language_info": {
   "codemirror_mode": {
    "name": "ipython",
    "version": 3
   },
   "file_extension": ".py",
   "mimetype": "text/x-python",
   "name": "python",
   "nbconvert_exporter": "python",
   "pygments_lexer": "ipython3",
   "version": "3.8.2"
  }
 },
 "nbformat": 4,
 "nbformat_minor": 4
}
